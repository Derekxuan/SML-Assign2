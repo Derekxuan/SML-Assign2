{
 "cells": [
  {
   "cell_type": "markdown",
   "metadata": {},
   "source": [
    "# COMP90051 Project 2"
   ]
  },
  {
   "cell_type": "code",
   "execution_count": 23,
   "metadata": {},
   "outputs": [],
   "source": [
    "# Do not edit. These are the only imports permitted.\n",
    "%matplotlib inline\n",
    "import numpy as np\n",
    "from numpy.linalg import inv\n",
    "import matplotlib.pyplot as plt\n",
    "from abc import ABC, abstractmethod"
   ]
  },
  {
   "cell_type": "markdown",
   "metadata": {},
   "source": [
    "## 1. Implementing ε-Greedy and UCB"
   ]
  },
  {
   "cell_type": "code",
   "execution_count": 24,
   "metadata": {},
   "outputs": [],
   "source": [
    "class MAB(ABC):\n",
    "    \"\"\"\n",
    "    Abstract class that represents a multi-armed bandit (MAB)\n",
    "    \"\"\"\n",
    "    \n",
    "    @abstractmethod\n",
    "    def play(self, tround, context):\n",
    "        \"\"\"\n",
    "        Play a round\n",
    "        \n",
    "        Arguments\n",
    "        =========\n",
    "        tround : int\n",
    "            positive integer identifying the round\n",
    "        \n",
    "        context : 1D float array, shape (self.ndims * self.narms), optional\n",
    "            context given to the arms\n",
    "        \n",
    "        Returns\n",
    "        =======\n",
    "        arm : int\n",
    "            the positive integer arm id for this round\n",
    "        \"\"\"\n",
    "    \n",
    "    @abstractmethod\n",
    "    def update(self, arm, reward, context):\n",
    "        \"\"\"\n",
    "        Updates the internal state of the MAB after a play\n",
    "        \n",
    "        Arguments\n",
    "        =========\n",
    "        arm : int\n",
    "            a positive integer arm id in {1, ..., self.narms}\n",
    "        \n",
    "        reward : float\n",
    "            reward received from arm\n",
    "        \n",
    "        context : 1D float array, shape (self.ndims * self.narms), optional\n",
    "            context given to arms\n",
    "        \"\"\""
   ]
  },
  {
   "cell_type": "code",
   "execution_count": 64,
   "metadata": {},
   "outputs": [],
   "source": [
    "class EpsGreedy(MAB):\n",
    "    \"\"\"\n",
    "    Epsilon-Greedy multi-armed bandit\n",
    "\n",
    "    Arguments\n",
    "    =========\n",
    "    narms : int\n",
    "        number of arms\n",
    "\n",
    "    epsilon : float\n",
    "        explore probability\n",
    "\n",
    "    Q0 : float, optional\n",
    "        initial value for the arms\n",
    "    \"\"\"\n",
    "    \n",
    "    def __init__(self, narms, epsilon, Q0=np.inf):\n",
    "        self.epsilon = epsilon\n",
    "        self.narms = narms\n",
    "        self.estimated_rewards = np.full(self.narms,Q0)\n",
    "        self.number_of_rounds = np.zeros(self.narms)\n",
    "        \n",
    "        \n",
    "    def play(self, tround, context=None):\n",
    "        ram = np.random.random()\n",
    "        if  ram < self.epsilon:\n",
    "            index = np.random.randint(0, self.narms)\n",
    "        else:\n",
    "            index = np.argmax(self.estimated_rewards)\n",
    "        arm = index + 1\n",
    "        return arm\n",
    "        \n",
    "    def update(self, arm, reward, context=None):\n",
    "        index = arm -1\n",
    "        cv = self.estimated_rewards[index] # current value of index arm\n",
    "        cr = self.number_of_rounds[index] # current round of index arm\n",
    "        self.estimated_rewards[index] = (cr/(cr+1))*cv + (1/(cr+1))*reward if cr > 0 else reward # update with reward\n",
    "        self.number_of_rounds[index] += 1 # once updated, round +1\n",
    "    "
   ]
  },
  {
   "cell_type": "code",
   "execution_count": 196,
   "metadata": {},
   "outputs": [],
   "source": [
    "class UCB(MAB):\n",
    "    \"\"\"\n",
    "    Upper Confidence Bound (UCB) multi-armed bandit\n",
    "\n",
    "    Arguments\n",
    "    =========\n",
    "    narms : int\n",
    "        number of arms\n",
    "\n",
    "    rho : float\n",
    "        positive real explore-exploit parameter\n",
    "\n",
    "    Q0 : float, optional\n",
    "        initial value for the arms\n",
    "    \"\"\"\n",
    "    \n",
    "    def __init__(self, narms, rho, Q0=np.inf):\n",
    "        self.rho = rho\n",
    "        self.narms = narms\n",
    "        self.estimated_rewards = np.full(self.narms, Q0)\n",
    "        self.chosen_count = np.zeros(self.narms)\n",
    "        self.total_rewards = np.zeros(self.narms)\n",
    "    \n",
    "    def play(self, tround, context=None):\n",
    "        def calculate_delta(round_number, item):\n",
    "            return np.sqrt(self.rho * np.log(round_number) / self.chosen_count[item])\n",
    "        \n",
    "        zero_indices = np.where(self.chosen_count == 0)[0]\n",
    "        if len(zero_indices) > 0:\n",
    "            index = np.random.choice(zero_indices)\n",
    "        else:\n",
    "            upper_bound_probs = [self.total_rewards[item]/self.chosen_count[item] + calculate_delta(tround, item) for item in range(self.narms)]\n",
    "            index = np.argmax(upper_bound_probs)\n",
    "        arm = index + 1\n",
    "        return arm\n",
    "#         arms = np.argwhere(self.estimated_rewards == np.amax(self.estimated_rewards)).flatten().tolist()\n",
    "#         return ramdon.choice(arms)+1\n",
    "        \n",
    "    def update(self, arm, reward, context=None):\n",
    "        index = arm -1\n",
    "        c_value = self.estimated_rewards[index] # current value of index arm\n",
    "        c_round = self.chosen_count[index] # current round of index arm\n",
    "        self.estimated_rewards[index] = (c_round/(c_round+1))*c_value + (1/(c_round+1))*reward # update with reward\n",
    "        self.total_rewards[index] += reward\n",
    "        self.chosen_count[index] += 1 # once updated, round +1\n",
    "        "
   ]
  },
  {
   "cell_type": "markdown",
   "metadata": {},
   "source": [
    "## 2. The Basic Thompson Bandit"
   ]
  },
  {
   "cell_type": "code",
   "execution_count": 197,
   "metadata": {},
   "outputs": [],
   "source": [
    "class BetaThompson(MAB):\n",
    "    \"\"\"\n",
    "    Beta-Bernoulli Thompson sampling multi-armed bandit\n",
    "\n",
    "    Arguments\n",
    "    =========\n",
    "    narms : int\n",
    "        number of arms\n",
    "\n",
    "    alpha0 : float, optional\n",
    "        positive real prior hyperparameter\n",
    "\n",
    "    beta0 : float, optional\n",
    "        positive real prior hyperparameter\n",
    "    \"\"\"\n",
    "    \n",
    "    def __init__(self, narms, alpha0=1.0, beta0=1.0):\n",
    "        self.alphas = [alpha0] * narms\n",
    "        self.betas = [beta0] * narms\n",
    "        self.narms = narms\n",
    "        self.succeses = np.zeros(self.narms)\n",
    "        self.failures = np.zeros(self.narms)\n",
    "        \n",
    "    \n",
    "    def play(self, tround, context=None):\n",
    "        import random\n",
    "        thetas = [random.betavariate(self.succeses[i] + self.alphas[i],\n",
    "            self.failures[i] + self.betas[i]) for i in range(self.narms)]\n",
    "        index = np.argmax(thetas)\n",
    "        return index + 1\n",
    "        \n",
    "    def update(self, arm, reward, context=None):\n",
    "        if reward == 1:\n",
    "            self.succeses[arm-1] += 1\n",
    "        else:\n",
    "            self.failures[arm-1] += 1"
   ]
  },
  {
   "cell_type": "markdown",
   "metadata": {},
   "source": [
    "## 3. Off-Policy Evaluation"
   ]
  },
  {
   "cell_type": "code",
   "execution_count": 198,
   "metadata": {},
   "outputs": [],
   "source": [
    "def offlineEvaluate(mab, arms, rewards, contexts, nrounds=None):\n",
    "    \"\"\"\n",
    "    Offline evaluation of a multi-armed bandit\n",
    "    \n",
    "    Arguments\n",
    "    =========\n",
    "    mab : instance of MAB\n",
    "    \n",
    "    arms : 1D int array, shape (nevents,) \n",
    "        integer arm id for each event\n",
    "    \n",
    "    rewards : 1D float array, shape (nevents,)\n",
    "        reward received for each event\n",
    "    \n",
    "    contexts : 2D float array, shape (nevents, mab.narms*nfeatures)\n",
    "        contexts presented to the arms (stacked horizontally) \n",
    "        for each event.\n",
    "        \n",
    "    nrounds : int, optional\n",
    "        number of matching events to evaluate `mab` on.\n",
    "    \n",
    "    Returns\n",
    "    =======\n",
    "    out : 1D float array\n",
    "        rewards for the matching events\n",
    "    \"\"\"\n",
    "    \n",
    "    # history = []\n",
    "    rewards_list = []\n",
    "\n",
    "    # exit when 0 rounds\n",
    "    if nrounds == 0:\n",
    "        return 0\n",
    "\n",
    "    tround = 1\n",
    "    idx = 0\n",
    "    while tround <= nrounds:\n",
    "        if idx >= len(contexts) - 1:\n",
    "            break\n",
    "\n",
    "        # get next event\n",
    "        context = contexts[idx]\n",
    "        arm = arms[idx]\n",
    "        reward = rewards[idx]\n",
    "        idx += 1\n",
    "\n",
    "        chosen_arm = mab.play(tround, context)\n",
    "        # when arm matching\n",
    "        if chosen_arm == arm:\n",
    "            mab.update(arm, reward, context)\n",
    "            # history.append((context, arm, reward))\n",
    "            rewards_list.append(reward)\n",
    "            tround += 1\n",
    "\n",
    "    return rewards_list"
   ]
  },
  {
   "cell_type": "code",
   "execution_count": 199,
   "metadata": {},
   "outputs": [],
   "source": [
    "data = np.genfromtxt(\"dataset.txt\", delimiter=\" \")\n",
    "arms = data[:, 0].astype(np.int64)\n",
    "rewards = data[:, 1]\n",
    "contexts = data[:, 2:]\n"
   ]
  },
  {
   "cell_type": "code",
   "execution_count": 200,
   "metadata": {},
   "outputs": [
    {
     "name": "stdout",
     "output_type": "stream",
     "text": [
      "EpsGreedy average reward 0.25875\n"
     ]
    }
   ],
   "source": [
    "mab = EpsGreedy(10, 0.05)\n",
    "results_EpsGreedy = offlineEvaluate(mab, arms, rewards, contexts, 800)\n",
    "print('EpsGreedy average reward', np.mean(results_EpsGreedy))"
   ]
  },
  {
   "cell_type": "code",
   "execution_count": 201,
   "metadata": {},
   "outputs": [
    {
     "name": "stderr",
     "output_type": "stream",
     "text": [
      "/usr/local/lib/python3.7/site-packages/ipykernel_launcher.py:43: RuntimeWarning: invalid value encountered in double_scalars\n"
     ]
    },
    {
     "name": "stdout",
     "output_type": "stream",
     "text": [
      "UCB average reward 0.17625\n"
     ]
    }
   ],
   "source": [
    "mab = UCB(10, 1.0)\n",
    "results_UCB = offlineEvaluate(mab, arms, rewards, contexts, 800)\n",
    "print('UCB average reward', np.mean(results_UCB))"
   ]
  },
  {
   "cell_type": "code",
   "execution_count": 202,
   "metadata": {},
   "outputs": [
    {
     "name": "stdout",
     "output_type": "stream",
     "text": [
      "BetaThompson average reward 0.22375\n"
     ]
    }
   ],
   "source": [
    "mab = BetaThompson(10, 1.0, 1.0)\n",
    "results_BetaThompson = offlineEvaluate(mab, arms, rewards, contexts, 800)\n",
    "print('BetaThompson average reward', np.mean(results_BetaThompson))"
   ]
  },
  {
   "cell_type": "markdown",
   "metadata": {},
   "source": [
    "## 4. Contextual Bandits - LinUCB"
   ]
  },
  {
   "cell_type": "code",
   "execution_count": null,
   "metadata": {},
   "outputs": [],
   "source": [
    "class LinUCB(MAB):\n",
    "    \"\"\"\n",
    "    Contextual multi-armed bandit (LinUCB)\n",
    "\n",
    "    Arguments\n",
    "    =========\n",
    "    narms : int\n",
    "        number of arms\n",
    "\n",
    "    ndims : int\n",
    "        number of dimensions for each arm's context\n",
    "\n",
    "    alpha : float\n",
    "        positive real explore-exploit parameter\n",
    "    \"\"\"\n",
    "    \n",
    "    def __init__(self, narms, ndims, alpha):\n",
    "        self.narms = narms\n",
    "        self.ndims = ndims\n",
    "        self.alpha = alpha\n",
    "        self.arm_range = range(1, narms + 1)\n",
    "        self.Aa_dict = {arm: np.identity(ndims) for arm in self.arm_range}\n",
    "        self.ba_dict = {arm: np.zeros(ndims) for arm in self.arm_range}\n",
    "        \n",
    "        \n",
    "    def play(self, tround, context):\n",
    "        \n",
    "        \n",
    "    \n",
    "    def update(self, arm, reward, context):\n",
    "        \n",
    "    "
   ]
  },
  {
   "cell_type": "code",
   "execution_count": null,
   "metadata": {},
   "outputs": [],
   "source": [
    "mab = LinUCB(10, 10, 1.0)\n",
    "results_LinUCB = offlineEvaluate(mab, arms, rewards, contexts, 800)\n",
    "print('LinUCB average reward', np.mean(results_LinUCB))"
   ]
  },
  {
   "cell_type": "markdown",
   "metadata": {},
   "source": [
    "## 5. Contextual Bandits - LinThompson"
   ]
  },
  {
   "cell_type": "code",
   "execution_count": null,
   "metadata": {},
   "outputs": [],
   "source": [
    "class LinThompson(MAB):\n",
    "    \"\"\"\n",
    "    Contextual Thompson sampled multi-armed bandit (LinThompson)\n",
    "\n",
    "    Arguments\n",
    "    =========\n",
    "    narms : int\n",
    "        number of arms\n",
    "\n",
    "    ndims : int\n",
    "        number of dimensions for each arm's context\n",
    "\n",
    "    v : float\n",
    "        positive real explore-exploit parameter\n",
    "    \"\"\"\n",
    "    \n",
    "    def __init__(self, narms, ndims, v):\n",
    "        \n",
    "        \n",
    "    def play(self, tround, context):\n",
    "        \n",
    "    \n",
    "    def update(self, arm, reward, context):\n",
    "        \n",
    "    "
   ]
  },
  {
   "cell_type": "code",
   "execution_count": null,
   "metadata": {},
   "outputs": [],
   "source": [
    "mab = LinThompson(10, 10, 1.0)\n",
    "results_LinThompson = offlineEvaluate(mab, arms, rewards, contexts, 800)\n",
    "print('LinThompson average reward', np.mean(results_LinThompson))"
   ]
  },
  {
   "cell_type": "markdown",
   "metadata": {},
   "source": [
    "## 6. Evaluation\n",
    "### 6.A."
   ]
  },
  {
   "cell_type": "code",
   "execution_count": null,
   "metadata": {},
   "outputs": [],
   "source": []
  },
  {
   "cell_type": "markdown",
   "metadata": {},
   "source": [
    "### 6.B."
   ]
  },
  {
   "cell_type": "code",
   "execution_count": null,
   "metadata": {},
   "outputs": [],
   "source": []
  }
 ],
 "metadata": {
  "kernelspec": {
   "display_name": "Python 3",
   "language": "python",
   "name": "python3"
  },
  "language_info": {
   "codemirror_mode": {
    "name": "ipython",
    "version": 3
   },
   "file_extension": ".py",
   "mimetype": "text/x-python",
   "name": "python",
   "nbconvert_exporter": "python",
   "pygments_lexer": "ipython3",
   "version": "3.7.0"
  }
 },
 "nbformat": 4,
 "nbformat_minor": 2
}
